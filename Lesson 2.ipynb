{
 "cells": [
  {
   "cell_type": "code",
   "execution_count": 10,
   "metadata": {},
   "outputs": [
    {
     "name": "stdout",
     "output_type": "stream",
     "text": [
      "4\n"
     ]
    }
   ],
   "source": [
    "# a tiny recap of last lesson about variables\n",
    "this_is_a_variable = 4\n",
    "print(this_is_a_variable)"
   ]
  },
  {
   "cell_type": "code",
   "execution_count": 11,
   "metadata": {},
   "outputs": [
    {
     "name": "stdout",
     "output_type": "stream",
     "text": [
      "84014063\n"
     ]
    }
   ],
   "source": [
    "# Let's try to predict the population given the initial value, population\n",
    "# growth, and the time delta. We will use the following formula: P = P'e^rt\n",
    "population_1980 = 4453831714 # population of the Earth in 1980\n",
    "population_1981 = 4537845777 # population of the Earth in 1981\n",
    "print(population_1981 - population_1980) # population growth in numbers"
   ]
  },
  {
   "cell_type": "code",
   "execution_count": 12,
   "metadata": {},
   "outputs": [
    {
     "name": "stdout",
     "output_type": "stream",
     "text": [
      "0.010188633222795361\n"
     ]
    }
   ],
   "source": [
    "population_growth = population_1981 / population_1980 / 100 # this is the r, ie population growth in %\n",
    "print(population_growth)"
   ]
  },
  {
   "cell_type": "code",
   "execution_count": 13,
   "metadata": {},
   "outputs": [],
   "source": [
    "t = 2020 - 1980 # we want to predict the population in 2020, ie 40 years from the year 1980\n",
    "# we will use the exp() function from the math module, this is the implementation of e^x where\n",
    "# \"e\" is the Euler's constant, and \"x\" is the exponent. If we pass 1 to the function, we will get\n",
    "# just the Euler's constant (e^1). For our case we need to pass r*t\n",
    "import math\n",
    "P = population_1980 * math.exp(population_growth * t)\n"
   ]
  },
  {
   "cell_type": "code",
   "execution_count": 14,
   "metadata": {},
   "outputs": [
    {
     "name": "stdout",
     "output_type": "stream",
     "text": [
      "6694659465.971031\n"
     ]
    }
   ],
   "source": [
    "print(P)"
   ]
  },
  {
   "cell_type": "code",
   "execution_count": 15,
   "metadata": {},
   "outputs": [
    {
     "name": "stdout",
     "output_type": "stream",
     "text": [
      "6694659465\n"
     ]
    }
   ],
   "source": [
    "# Let's round the value to the nearest number. For this we will use the int() function which converts\n",
    "# floating point numbers (numbers with a fraction) into integers\n",
    "print(int(P))"
   ]
  },
  {
   "cell_type": "code",
   "execution_count": 16,
   "metadata": {},
   "outputs": [
    {
     "name": "stdout",
     "output_type": "stream",
     "text": [
      "6694659465.97\n"
     ]
    }
   ],
   "source": [
    "# For rounding, we can also use the round() function which accepts 2 arguments: the actual number\n",
    "# and how many digits we're rounding to. We will pass 2 to round to the 2 digit after the point.\n",
    "print(round(P, 2))"
   ]
  },
  {
   "cell_type": "code",
   "execution_count": 17,
   "metadata": {},
   "outputs": [
    {
     "name": "stdout",
     "output_type": "stream",
     "text": [
      "6694659466\n"
     ]
    }
   ],
   "source": [
    "# If we omit the second argument, we would round to the nearest whole number\n",
    "print(round(P))"
   ]
  },
  {
   "cell_type": "code",
   "execution_count": 18,
   "metadata": {},
   "outputs": [
    {
     "name": "stdout",
     "output_type": "stream",
     "text": [
      "6694659465\n"
     ]
    }
   ],
   "source": [
    "# We can also use the floor() function from the math module that we imported before. This would round to\n",
    "# the lower number\n",
    "print(math.floor(P))"
   ]
  },
  {
   "cell_type": "code",
   "execution_count": 19,
   "metadata": {},
   "outputs": [
    {
     "name": "stdout",
     "output_type": "stream",
     "text": [
      "6694659466\n"
     ]
    }
   ],
   "source": [
    "# whereas math.ceil would round to the higher number, just like you learned in school\n",
    "print(math.ceil(P))"
   ]
  },
  {
   "cell_type": "code",
   "execution_count": 20,
   "metadata": {},
   "outputs": [
    {
     "name": "stdout",
     "output_type": "stream",
     "text": [
      "1.67e-27\n",
      "2.6560000000000004e-26\n"
     ]
    }
   ],
   "source": [
    "# now let's calculate the weight of the H2O molecule\n",
    "h_weight = 1.67 * 10**(-27)\n",
    "o_weight = 2.656 * 10**(-26)\n",
    "print(h_weight)\n",
    "print(o_weight)"
   ]
  },
  {
   "cell_type": "code",
   "execution_count": 21,
   "metadata": {},
   "outputs": [
    {
     "name": "stdout",
     "output_type": "stream",
     "text": [
      "1.67e-27\n",
      "2.656e-26\n"
     ]
    }
   ],
   "source": [
    "# we can write down numbers in Python 2 ways, either calculating using 10**(-27), 10 in the power of -27\n",
    "# or we can use \"e-27\" which is exactly the same.\n",
    "h_weight = 1.67e-27\n",
    "o_weight = 2.656e-26\n",
    "print(h_weight)\n",
    "print(o_weight)"
   ]
  },
  {
   "cell_type": "code",
   "execution_count": 22,
   "metadata": {},
   "outputs": [
    {
     "name": "stdout",
     "output_type": "stream",
     "text": [
      "2.9899999999999996e-26\n"
     ]
    }
   ],
   "source": [
    "weight_of_molecule = 2 * h_weight + o_weight\n",
    "print(weight_of_molecule)"
   ]
  },
  {
   "cell_type": "code",
   "execution_count": 23,
   "metadata": {},
   "outputs": [
    {
     "name": "stdout",
     "output_type": "stream",
     "text": [
      "2.99e-26\n"
     ]
    }
   ],
   "source": [
    "print(round(weight_of_molecule, 30))"
   ]
  },
  {
   "cell_type": "code",
   "execution_count": 24,
   "metadata": {},
   "outputs": [],
   "source": [
    "# Let's look at all the operations with numbers\n",
    "1 + 1 # sum\n",
    "1 - 1 # substract\n",
    "10 / 5 # division\n",
    "2 * 5 # multiplication\n",
    "10 // 3 # division without the remainder\n",
    "10 % 3 # remainder\n",
    "3 ** 2 # power\n",
    "positive_number = 3\n",
    "negative_number = -positive_number # negation\n",
    "positive_number = +positive_number\n",
    "abs(negative_number) # getting the absolute value\n",
    "complex_number1 = complex(3, 2) # complex numbers"
   ]
  },
  {
   "cell_type": "code",
   "execution_count": 25,
   "metadata": {},
   "outputs": [
    {
     "data": {
      "text/plain": [
       "10.0"
      ]
     },
     "execution_count": 25,
     "metadata": {},
     "output_type": "execute_result"
    }
   ],
   "source": [
    "10.0 # this is a floating point number, or float in short"
   ]
  },
  {
   "cell_type": "code",
   "execution_count": 26,
   "metadata": {},
   "outputs": [
    {
     "data": {
      "text/plain": [
       "3.3333333333333335"
      ]
     },
     "execution_count": 26,
     "metadata": {},
     "output_type": "execute_result"
    }
   ],
   "source": [
    "10 / 3 # division operation always returns a float (even if you divide whole numbers, ie integers)"
   ]
  },
  {
   "cell_type": "code",
   "execution_count": 27,
   "metadata": {},
   "outputs": [
    {
     "data": {
      "text/plain": [
       "10.0"
      ]
     },
     "execution_count": 27,
     "metadata": {},
     "output_type": "execute_result"
    }
   ],
   "source": [
    "2 * 5.0 # if one of the nubers is float, the result would also be float"
   ]
  },
  {
   "cell_type": "code",
   "execution_count": 28,
   "metadata": {},
   "outputs": [
    {
     "data": {
      "text/plain": [
       "10"
      ]
     },
     "execution_count": 28,
     "metadata": {},
     "output_type": "execute_result"
    }
   ],
   "source": [
    "2 * 5 # two integers give you an integer (unless it's a division operation)"
   ]
  },
  {
   "cell_type": "code",
   "execution_count": 29,
   "metadata": {},
   "outputs": [
    {
     "name": "stdout",
     "output_type": "stream",
     "text": [
      "True\n"
     ]
    }
   ],
   "source": [
    "# Booleans\n",
    "value_true = True\n",
    "value_false = False\n",
    "\n",
    "car_has_4_wheels = True\n",
    "print(car_has_4_wheels)"
   ]
  },
  {
   "cell_type": "code",
   "execution_count": 30,
   "metadata": {},
   "outputs": [
    {
     "name": "stdout",
     "output_type": "stream",
     "text": [
      "False\n"
     ]
    }
   ],
   "source": [
    "is_animal = False\n",
    "print(is_animal)"
   ]
  },
  {
   "cell_type": "code",
   "execution_count": 31,
   "metadata": {},
   "outputs": [
    {
     "name": "stdout",
     "output_type": "stream",
     "text": [
      "Not an animal\n"
     ]
    }
   ],
   "source": [
    "if is_animal:\n",
    "    print(\"It's an animal\")\n",
    "else:\n",
    "    print(\"Not an animal\")"
   ]
  },
  {
   "cell_type": "code",
   "execution_count": 32,
   "metadata": {},
   "outputs": [
    {
     "name": "stdout",
     "output_type": "stream",
     "text": [
      "Not an animal\n"
     ]
    }
   ],
   "source": [
    "if is_animal == True:\n",
    "    print(\"It's an animal\")\n",
    "else:\n",
    "    print(\"Not an animal\")"
   ]
  },
  {
   "cell_type": "code",
   "execution_count": 33,
   "metadata": {},
   "outputs": [
    {
     "name": "stdout",
     "output_type": "stream",
     "text": [
      "Has legs\n"
     ]
    }
   ],
   "source": [
    "number_of_legs = 4\n",
    "if number_of_legs:\n",
    "    print(\"Has legs\")\n",
    "else:\n",
    "    print(\"No legs\")"
   ]
  },
  {
   "cell_type": "code",
   "execution_count": 34,
   "metadata": {},
   "outputs": [
    {
     "name": "stdout",
     "output_type": "stream",
     "text": [
      "No legs\n"
     ]
    }
   ],
   "source": [
    "number_of_legs = 0\n",
    "if number_of_legs:\n",
    "    print(\"Has legs\")\n",
    "else:\n",
    "    print(\"No legs\")"
   ]
  },
  {
   "cell_type": "code",
   "execution_count": 35,
   "metadata": {},
   "outputs": [
    {
     "data": {
      "text/plain": [
       "True"
      ]
     },
     "execution_count": 35,
     "metadata": {},
     "output_type": "execute_result"
    }
   ],
   "source": [
    "car_has_4_wheels = True\n",
    "car_is_green = True\n",
    "car_has_4_wheels and car_is_green"
   ]
  },
  {
   "cell_type": "code",
   "execution_count": 36,
   "metadata": {},
   "outputs": [
    {
     "data": {
      "text/plain": [
       "False"
      ]
     },
     "execution_count": 36,
     "metadata": {},
     "output_type": "execute_result"
    }
   ],
   "source": [
    "car_is_green = False\n",
    "car_has_4_wheels and car_is_green"
   ]
  },
  {
   "cell_type": "code",
   "execution_count": 37,
   "metadata": {},
   "outputs": [
    {
     "data": {
      "text/plain": [
       "True"
      ]
     },
     "execution_count": 37,
     "metadata": {},
     "output_type": "execute_result"
    }
   ],
   "source": [
    "car_has_3_wheels = False\n",
    "car_is_blue = True\n",
    "car_has_3_wheels or car_is_blue"
   ]
  },
  {
   "cell_type": "code",
   "execution_count": 38,
   "metadata": {},
   "outputs": [
    {
     "name": "stdout",
     "output_type": "stream",
     "text": [
      "False\n"
     ]
    }
   ],
   "source": [
    "print(car_has_3_wheels)"
   ]
  },
  {
   "cell_type": "code",
   "execution_count": 39,
   "metadata": {},
   "outputs": [
    {
     "data": {
      "text/plain": [
       "True"
      ]
     },
     "execution_count": 39,
     "metadata": {},
     "output_type": "execute_result"
    }
   ],
   "source": [
    "not car_has_3_wheels"
   ]
  },
  {
   "cell_type": "code",
   "execution_count": 40,
   "metadata": {},
   "outputs": [
    {
     "data": {
      "text/plain": [
       "True"
      ]
     },
     "execution_count": 40,
     "metadata": {},
     "output_type": "execute_result"
    }
   ],
   "source": [
    "# the order at which these are evaluated is from right to left\n",
    "car_has_3_wheels and car_has_4_wheels or car_is_blue"
   ]
  },
  {
   "cell_type": "code",
   "execution_count": 41,
   "metadata": {},
   "outputs": [
    {
     "data": {
      "text/plain": [
       "True"
      ]
     },
     "execution_count": 41,
     "metadata": {},
     "output_type": "execute_result"
    }
   ],
   "source": [
    "# if you want to change the evaluation order, use brackets, just like you\n",
    "# did in Math in school\n",
    "car_has_3_wheels or (car_has_4_wheels and car_is_blue)"
   ]
  },
  {
   "cell_type": "code",
   "execution_count": 42,
   "metadata": {},
   "outputs": [
    {
     "data": {
      "text/plain": [
       "False"
      ]
     },
     "execution_count": 42,
     "metadata": {},
     "output_type": "execute_result"
    }
   ],
   "source": [
    "car_has_3_wheels and (car_has_4_wheels and car_is_blue)"
   ]
  },
  {
   "cell_type": "code",
   "execution_count": 43,
   "metadata": {},
   "outputs": [
    {
     "data": {
      "text/plain": [
       "True"
      ]
     },
     "execution_count": 43,
     "metadata": {},
     "output_type": "execute_result"
    }
   ],
   "source": [
    "not(car_has_3_wheels and (car_has_4_wheels and car_is_blue))"
   ]
  },
  {
   "cell_type": "code",
   "execution_count": 44,
   "metadata": {},
   "outputs": [],
   "source": [
    "# And we are back to strings\n",
    "this_is_string = 'This is a string'\n",
    "another_string = \"Hey, I'm a string\"\n",
    "more_string = \"\"\"Whoa, this\n",
    "is a string\"\"\""
   ]
  },
  {
   "cell_type": "code",
   "execution_count": 45,
   "metadata": {},
   "outputs": [
    {
     "name": "stdout",
     "output_type": "stream",
     "text": [
      "Ämber\n"
     ]
    }
   ],
   "source": [
    "# We can use any language\n",
    "print(\"Ämber\")"
   ]
  },
  {
   "cell_type": "code",
   "execution_count": 46,
   "metadata": {},
   "outputs": [
    {
     "name": "stdout",
     "output_type": "stream",
     "text": [
      "Здравствуйте\n"
     ]
    }
   ],
   "source": [
    "print(\"Здравствуйте\")"
   ]
  },
  {
   "cell_type": "code",
   "execution_count": 47,
   "metadata": {},
   "outputs": [],
   "source": [
    "# Lists"
   ]
  },
  {
   "cell_type": "code",
   "execution_count": 48,
   "metadata": {},
   "outputs": [
    {
     "name": "stdout",
     "output_type": "stream",
     "text": [
      "[1, 2, 3, 4.0, 5]\n"
     ]
    }
   ],
   "source": [
    "# list is an ordered collection of elements\n",
    "# lists can hold anything: numbers, strings, other lists, etc\n",
    "this_is_a_list_of_numbers = [1, 2, 3, 4.0, 5]\n",
    "print(this_is_a_list_of_numbers)"
   ]
  },
  {
   "cell_type": "code",
   "execution_count": 49,
   "metadata": {},
   "outputs": [
    {
     "name": "stdout",
     "output_type": "stream",
     "text": [
      "['Hello', 'World']\n",
      "['Hello', 1, 2, 3, 'World']\n"
     ]
    }
   ],
   "source": [
    "this_a_list_of_strings = [\"Hello\", \"World\"]\n",
    "this_list_holds_everythings = [\"Hello\", 1, 2, 3, \"World\"]\n",
    "print(this_a_list_of_strings)\n",
    "print(this_list_holds_everythings)"
   ]
  },
  {
   "cell_type": "code",
   "execution_count": 50,
   "metadata": {},
   "outputs": [
    {
     "name": "stdout",
     "output_type": "stream",
     "text": [
      "[1, 2, 3, 4.0, 5, 'Hello', 'World']\n"
     ]
    }
   ],
   "source": [
    "# we can combine two (or more) lists into one using the + operation\n",
    "list_of_all_values = this_is_a_list_of_numbers + this_a_list_of_strings\n",
    "print(list_of_all_values)"
   ]
  },
  {
   "cell_type": "code",
   "execution_count": 51,
   "metadata": {},
   "outputs": [
    {
     "name": "stdout",
     "output_type": "stream",
     "text": [
      "Hello\n",
      "World\n"
     ]
    }
   ],
   "source": [
    "# to get an element from the list, we use square brackets and element position\n",
    "# in lists, elements start at position 0, not at 1! This is important to remember.\n",
    "# so the first element is at position 0, second at position 1. And so on.\n",
    "print(this_a_list_of_strings[0])\n",
    "print(this_a_list_of_strings[1])"
   ]
  },
  {
   "cell_type": "code",
   "execution_count": 52,
   "metadata": {},
   "outputs": [
    {
     "name": "stdout",
     "output_type": "stream",
     "text": [
      "HelloWorld\n"
     ]
    }
   ],
   "source": [
    "# we can also combine strings using the + operation\n",
    "hello_world = this_a_list_of_strings[0] + this_a_list_of_strings[1]\n",
    "print(hello_world)"
   ]
  },
  {
   "cell_type": "code",
   "execution_count": 53,
   "metadata": {},
   "outputs": [
    {
     "name": "stdout",
     "output_type": "stream",
     "text": [
      "Hello, World\n"
     ]
    }
   ],
   "source": [
    "# you can have strings (or any other value) without assigning them to variables first\n",
    "hello_world2 = this_a_list_of_strings[0] + \", \" + this_a_list_of_strings[1]\n",
    "print(hello_world2)"
   ]
  },
  {
   "cell_type": "code",
   "execution_count": 54,
   "metadata": {},
   "outputs": [
    {
     "name": "stdout",
     "output_type": "stream",
     "text": [
      "107\n"
     ]
    }
   ],
   "source": [
    "# let's calculate the sum of all ages in the group\n",
    "ages = [20, 25, 30, 32]\n",
    "# we grab each item from the list using its position\n",
    "sum_of_ages = ages[0] + ages[1] + ages[2] + ages[3]\n",
    "print(sum_of_ages)"
   ]
  },
  {
   "cell_type": "code",
   "execution_count": 55,
   "metadata": {},
   "outputs": [
    {
     "data": {
      "text/plain": [
       "107"
      ]
     },
     "execution_count": 55,
     "metadata": {},
     "output_type": "execute_result"
    }
   ],
   "source": [
    "# to avoid doing that manually, we can use the sum() function\n",
    "# it takes a list as its argument and sums all the values.\n",
    "sum(ages)"
   ]
  },
  {
   "cell_type": "code",
   "execution_count": 56,
   "metadata": {},
   "outputs": [
    {
     "data": {
      "text/plain": [
       "4"
      ]
     },
     "execution_count": 56,
     "metadata": {},
     "output_type": "execute_result"
    }
   ],
   "source": [
    "# to get number of elements in a list, we use the len() function\n",
    "len(ages)"
   ]
  },
  {
   "cell_type": "code",
   "execution_count": 57,
   "metadata": {},
   "outputs": [
    {
     "name": "stdout",
     "output_type": "stream",
     "text": [
      "32\n"
     ]
    }
   ],
   "source": [
    "# let's grab the last element from the list\n",
    "len_of_list = len(ages)\n",
    "last_element = ages[len_of_list - 1] # because indexing starts at 0\n",
    "print(last_element)"
   ]
  },
  {
   "cell_type": "code",
   "execution_count": 58,
   "metadata": {},
   "outputs": [
    {
     "ename": "IndexError",
     "evalue": "list index out of range",
     "output_type": "error",
     "traceback": [
      "\u001b[0;31m---------------------------------------------------------------------------\u001b[0m",
      "\u001b[0;31mIndexError\u001b[0m                                Traceback (most recent call last)",
      "\u001b[0;32m<ipython-input-58-b5934559361b>\u001b[0m in \u001b[0;36m<module>\u001b[0;34m\u001b[0m\n\u001b[1;32m      1\u001b[0m \u001b[0;31m# there are 4 elements in our list, and if we forget that indexing starts\u001b[0m\u001b[0;34m\u001b[0m\u001b[0;34m\u001b[0m\u001b[0m\n\u001b[1;32m      2\u001b[0m \u001b[0;31m# at 0, we will get an error when trying to fetch the last element\u001b[0m\u001b[0;34m\u001b[0m\u001b[0;34m\u001b[0m\u001b[0m\n\u001b[0;32m----> 3\u001b[0;31m \u001b[0mages\u001b[0m\u001b[0;34m[\u001b[0m\u001b[0mlen_of_list\u001b[0m\u001b[0;34m]\u001b[0m\u001b[0;34m\u001b[0m\u001b[0m\n\u001b[0m",
      "\u001b[0;31mIndexError\u001b[0m: list index out of range"
     ]
    }
   ],
   "source": [
    "# there are 4 elements in our list, and if we forget that indexing starts\n",
    "# at 0, we will get an error when trying to fetch the last element\n",
    "ages[len_of_list]"
   ]
  },
  {
   "cell_type": "code",
   "execution_count": null,
   "metadata": {},
   "outputs": [],
   "source": []
  }
 ],
 "metadata": {
  "kernelspec": {
   "display_name": "Python 3",
   "language": "python",
   "name": "python3"
  },
  "language_info": {
   "codemirror_mode": {
    "name": "ipython",
    "version": 3
   },
   "file_extension": ".py",
   "mimetype": "text/x-python",
   "name": "python",
   "nbconvert_exporter": "python",
   "pygments_lexer": "ipython3",
   "version": "3.7.0"
  }
 },
 "nbformat": 4,
 "nbformat_minor": 2
}
