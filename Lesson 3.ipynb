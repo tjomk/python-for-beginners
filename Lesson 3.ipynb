{
 "cells": [
  {
   "cell_type": "code",
   "execution_count": 1,
   "metadata": {},
   "outputs": [
    {
     "name": "stdout",
     "output_type": "stream",
     "text": [
      "[1, 2, 3]\n"
     ]
    }
   ],
   "source": [
    "my_list = [1, 2, 3] # let's talk about lists again\n",
    "print(my_list)"
   ]
  },
  {
   "cell_type": "code",
   "execution_count": 2,
   "metadata": {},
   "outputs": [
    {
     "name": "stdout",
     "output_type": "stream",
     "text": [
      "1\n"
     ]
    }
   ],
   "source": [
    "first_item = my_list[0] # indexing in lists starts at 0\n",
    "print(first_item)"
   ]
  },
  {
   "cell_type": "code",
   "execution_count": 3,
   "metadata": {},
   "outputs": [
    {
     "name": "stdout",
     "output_type": "stream",
     "text": [
      "6\n"
     ]
    }
   ],
   "source": [
    "sum_of_elements = my_list[0] + my_list[1] + my_list[2] # getting the sum of all elements in a list\n",
    "print(sum_of_elements)"
   ]
  },
  {
   "cell_type": "code",
   "execution_count": 4,
   "metadata": {},
   "outputs": [
    {
     "name": "stdout",
     "output_type": "stream",
     "text": [
      "6\n"
     ]
    }
   ],
   "source": [
    "sum_of_elements2 = sum(my_list) # getting the sum of all elements in a list\n",
    "print(sum_of_elements2)"
   ]
  },
  {
   "cell_type": "code",
   "execution_count": 5,
   "metadata": {},
   "outputs": [
    {
     "data": {
      "text/plain": [
       "3"
      ]
     },
     "execution_count": 5,
     "metadata": {},
     "output_type": "execute_result"
    }
   ],
   "source": [
    "len(my_list) # getting the list length (number of elements in a list)"
   ]
  },
  {
   "cell_type": "code",
   "execution_count": 6,
   "metadata": {},
   "outputs": [
    {
     "name": "stdout",
     "output_type": "stream",
     "text": [
      "{}\n"
     ]
    }
   ],
   "source": [
    "empty_dictionary = {} # initializing empty dictionary\n",
    "print(empty_dictionary)"
   ]
  },
  {
   "cell_type": "code",
   "execution_count": 6,
   "metadata": {},
   "outputs": [
    {
     "name": "stdout",
     "output_type": "stream",
     "text": [
      "{'first_name': 'Albert', 'last_name': 'Einstein', 'title': 'Theoretical physicist'}\n"
     ]
    }
   ],
   "source": [
    "# unlike lists, dictionaries are unordered collections which means that\n",
    "# there is no guarantee that the values you've added will be in the same\n",
    "# order. To save or get a value from the dictionary you use keys\n",
    "# (just like in lists you use index in square brackets). A valid key\n",
    "# can be a string, a number (integer or float), a boolean.\n",
    "person = {}\n",
    "person[\"first_name\"] = \"Albert\"\n",
    "person[\"last_name\"] = \"Einstein\"\n",
    "person[\"title\"] = \"Theoretical physicist\"\n",
    "print(person)"
   ]
  },
  {
   "cell_type": "code",
   "execution_count": 2,
   "metadata": {},
   "outputs": [
    {
     "name": "stdout",
     "output_type": "stream",
     "text": [
      "Kersti\n"
     ]
    }
   ],
   "source": [
    "print(person[\"first_name\"]) # getting the value using the key"
   ]
  },
  {
   "cell_type": "code",
   "execution_count": 7,
   "metadata": {},
   "outputs": [
    {
     "name": "stdout",
     "output_type": "stream",
     "text": [
      "{'first_name': 'Albert', 'last_name': 'Einstein', 'title': 'Theoretical physicist', 0: 'Zero'}\n"
     ]
    }
   ],
   "source": [
    "person[0] = \"Zero\" # we can also use numbers as keys\n",
    "print(person)"
   ]
  },
  {
   "cell_type": "code",
   "execution_count": 10,
   "metadata": {},
   "outputs": [
    {
     "name": "stdout",
     "output_type": "stream",
     "text": [
      "Zero\n"
     ]
    }
   ],
   "source": [
    "print(person[0]) # now it almost looks like a list"
   ]
  },
  {
   "cell_type": "code",
   "execution_count": 11,
   "metadata": {},
   "outputs": [
    {
     "name": "stdout",
     "output_type": "stream",
     "text": [
      "Kersti\n"
     ]
    }
   ],
   "source": [
    "print(person[\"first_name\"])"
   ]
  },
  {
   "cell_type": "code",
   "execution_count": 8,
   "metadata": {},
   "outputs": [
    {
     "name": "stdout",
     "output_type": "stream",
     "text": [
      "{'first_name': 'Isaac', 'last_name': 'Newton', 'title': 'Theoretical physicist', 0: 'Zero'}\n"
     ]
    }
   ],
   "source": [
    "# in order to change/update the value, we just have to\n",
    "# assign the new one using the same key\n",
    "person[\"first_name\"] = \"Isaac\"\n",
    "person[\"last_name\"] = \"Newton\"\n",
    "print(person)"
   ]
  },
  {
   "cell_type": "code",
   "execution_count": 9,
   "metadata": {},
   "outputs": [
    {
     "name": "stdout",
     "output_type": "stream",
     "text": [
      "{'first_name': 'Isaac', 'last_name': 'Newton', 'title': 'Theoretical physicist', 0: 'Zero'}\n"
     ]
    }
   ],
   "source": [
    "# as we discussed on the first lesson about variables,\n",
    "# a variable is a reference to a value. We now have two\n",
    "# variables pointing to the same dictionary\n",
    "physicist = person\n",
    "print(physicist)"
   ]
  },
  {
   "cell_type": "code",
   "execution_count": 10,
   "metadata": {},
   "outputs": [
    {
     "name": "stdout",
     "output_type": "stream",
     "text": [
      "{'first_name': 'Isaac', 'last_name': 'Newton', 'title': 'Theoretical physicist', 0: 'Zero'}\n"
     ]
    }
   ],
   "source": [
    "print(person)"
   ]
  },
  {
   "cell_type": "code",
   "execution_count": 11,
   "metadata": {},
   "outputs": [
    {
     "name": "stdout",
     "output_type": "stream",
     "text": [
      "{'first_name': 'Isaac', 'last_name': 'Newton', 'title': 'Theoretical physicist', 0: 'Zero'}\n"
     ]
    }
   ],
   "source": [
    "print(physicist)"
   ]
  },
  {
   "cell_type": "code",
   "execution_count": 12,
   "metadata": {},
   "outputs": [
    {
     "data": {
      "text/plain": [
       "True"
      ]
     },
     "execution_count": 12,
     "metadata": {},
     "output_type": "execute_result"
    }
   ],
   "source": [
    "# let's check if the value these 2 variables refer to is in fact the same\n",
    "person == physicist"
   ]
  },
  {
   "cell_type": "code",
   "execution_count": 13,
   "metadata": {},
   "outputs": [],
   "source": [
    "# what happens if we try to update the value in our \"person\" dictionary?\n",
    "person[\"first_name\"] = \"René\""
   ]
  },
  {
   "cell_type": "code",
   "execution_count": 14,
   "metadata": {},
   "outputs": [
    {
     "name": "stdout",
     "output_type": "stream",
     "text": [
      "{'first_name': 'René', 'last_name': 'Newton', 'title': 'Theoretical physicist', 0: 'Zero'}\n"
     ]
    }
   ],
   "source": [
    "print(person)"
   ]
  },
  {
   "cell_type": "code",
   "execution_count": 15,
   "metadata": {},
   "outputs": [
    {
     "name": "stdout",
     "output_type": "stream",
     "text": [
      "{'first_name': 'René', 'last_name': 'Newton', 'title': 'Theoretical physicist', 0: 'Zero'}\n"
     ]
    }
   ],
   "source": [
    "# our \"physicist\" dictionary changes too, because the variable is\n",
    "# pointing to the same dictionary as the \"person\"\n",
    "print(physicist)"
   ]
  },
  {
   "cell_type": "code",
   "execution_count": 20,
   "metadata": {},
   "outputs": [
    {
     "name": "stdout",
     "output_type": "stream",
     "text": [
      "[30, 40, 50]\n",
      "[30, 40, 50]\n"
     ]
    }
   ],
   "source": [
    "# and the same situation happens with lists\n",
    "weights = [30, 40, 50]\n",
    "weights2 = weights\n",
    "print(weights)\n",
    "print(weights2)"
   ]
  },
  {
   "cell_type": "code",
   "execution_count": 21,
   "metadata": {},
   "outputs": [
    {
     "name": "stdout",
     "output_type": "stream",
     "text": [
      "[40, 40, 50]\n",
      "[40, 40, 50]\n"
     ]
    }
   ],
   "source": [
    "# since they point to the same list, if we update the value\n",
    "# in the first list, it automatically changes in the second\n",
    "weights[0] = 40\n",
    "print(weights)\n",
    "print(weights2)"
   ]
  },
  {
   "cell_type": "code",
   "execution_count": 22,
   "metadata": {},
   "outputs": [
    {
     "name": "stdout",
     "output_type": "stream",
     "text": [
      "[40, 45, 50]\n",
      "[40, 45, 50]\n"
     ]
    }
   ],
   "source": [
    "weights2[1] = 45\n",
    "print(weights)\n",
    "print(weights2)"
   ]
  },
  {
   "cell_type": "code",
   "execution_count": 16,
   "metadata": {},
   "outputs": [
    {
     "name": "stdout",
     "output_type": "stream",
     "text": [
      "{'first_name': 'René', 'last_name': 'Newton', 'title': 'Theoretical physicist', 0: 'Zero'}\n"
     ]
    }
   ],
   "source": [
    "print(person)"
   ]
  },
  {
   "cell_type": "code",
   "execution_count": 18,
   "metadata": {},
   "outputs": [
    {
     "name": "stdout",
     "output_type": "stream",
     "text": [
      "{}\n"
     ]
    }
   ],
   "source": [
    "# now let's empty the first dictionary\n",
    "person = {}\n",
    "print(person)"
   ]
  },
  {
   "cell_type": "code",
   "execution_count": 19,
   "metadata": {},
   "outputs": [
    {
     "name": "stdout",
     "output_type": "stream",
     "text": [
      "{'first_name': 'René', 'last_name': 'Newton', 'title': 'Theoretical physicist', 0: 'Zero'}\n"
     ]
    }
   ],
   "source": [
    "# why didn't the second dictionary change? can you guess without reading further?\n",
    "# this is because we have changed where the first variable points to, and\n",
    "# now it points to a new empty dictionary whereas the second is still pointing\n",
    "# to the old dictionary\n",
    "print(physicist)"
   ]
  },
  {
   "cell_type": "code",
   "execution_count": 20,
   "metadata": {},
   "outputs": [
    {
     "name": "stdout",
     "output_type": "stream",
     "text": [
      "{}\n"
     ]
    }
   ],
   "source": [
    "# let's also update the second\n",
    "physicist = {}\n",
    "print(physicist)"
   ]
  },
  {
   "cell_type": "code",
   "execution_count": 22,
   "metadata": {},
   "outputs": [
    {
     "name": "stdout",
     "output_type": "stream",
     "text": [
      "{'first_name': 'René', 'last_name': 'Descartes'}\n",
      "{}\n"
     ]
    }
   ],
   "source": [
    "# but why didn't \"person\" change? After all we're pointing both\n",
    "# to the same empty dictionary! Well, are we? We have assigned\n",
    "# \"person\" and \"physicist\" two different empty dictionaries\n",
    "# so updating one doesn't change the other\n",
    "physicist[\"first_name\"] = \"René\"\n",
    "physicist[\"last_name\"] = \"Descartes\"\n",
    "print(physicist)\n",
    "print(person)"
   ]
  },
  {
   "cell_type": "code",
   "execution_count": 25,
   "metadata": {},
   "outputs": [
    {
     "name": "stdout",
     "output_type": "stream",
     "text": [
      "[]\n"
     ]
    },
    {
     "data": {
      "text/plain": [
       "0"
      ]
     },
     "execution_count": 25,
     "metadata": {},
     "output_type": "execute_result"
    }
   ],
   "source": [
    "# let's try to create a more complex structure using lists, a matrix\n",
    "# https://en.wikipedia.org/wiki/Matrix_(mathematics)\n",
    "# it's a two-dimensional array holding numbers.\n",
    "# we will start with an empty list\n",
    "matrix = []\n",
    "print(matrix)\n",
    "len(matrix)"
   ]
  },
  {
   "cell_type": "code",
   "execution_count": 26,
   "metadata": {},
   "outputs": [
    {
     "name": "stdout",
     "output_type": "stream",
     "text": [
      "[[]]\n"
     ]
    }
   ],
   "source": [
    "# and append (add to the end) another empty list\n",
    "matrix.append([])\n",
    "print(matrix)"
   ]
  },
  {
   "cell_type": "code",
   "execution_count": 27,
   "metadata": {},
   "outputs": [
    {
     "data": {
      "text/plain": [
       "1"
      ]
     },
     "execution_count": 27,
     "metadata": {},
     "output_type": "execute_result"
    }
   ],
   "source": [
    "# as a result we have a list with one element\n",
    "len(matrix)"
   ]
  },
  {
   "cell_type": "code",
   "execution_count": 28,
   "metadata": {},
   "outputs": [
    {
     "name": "stdout",
     "output_type": "stream",
     "text": [
      "[]\n"
     ]
    }
   ],
   "source": [
    "# that first element is another empty list\n",
    "print(matrix[0])"
   ]
  },
  {
   "cell_type": "code",
   "execution_count": 29,
   "metadata": {},
   "outputs": [
    {
     "name": "stdout",
     "output_type": "stream",
     "text": [
      "[[1]]\n"
     ]
    }
   ],
   "source": [
    "# let's add the value to that empty list\n",
    "# since we're trying to create a matrix, it might be easier to\n",
    "# view it visually. Our goal is to create a 3x3 matrix. We\n",
    "# started with the following:\n",
    "#  ------\n",
    "# | | | |\n",
    "# ------\n",
    "# | | | |\n",
    "# ------\n",
    "# | | | |\n",
    "# ------\n",
    "# After adding the first element, we now have the following:\n",
    "#  ------\n",
    "# |1| | |\n",
    "# ------\n",
    "# | | | |\n",
    "# ------\n",
    "# | | | |\n",
    "# ------\n",
    "# Consider the rows here being our elements in the \"matrix\" list\n",
    "# and columns being elements of the lists inside each matrix element.\n",
    "matrix[0].append(1)\n",
    "print(matrix)"
   ]
  },
  {
   "cell_type": "code",
   "execution_count": 30,
   "metadata": {},
   "outputs": [
    {
     "name": "stdout",
     "output_type": "stream",
     "text": [
      "[[1, 2, 3]]\n"
     ]
    }
   ],
   "source": [
    "# let's populate the first row\n",
    "#  ------\n",
    "# |1|2|3|\n",
    "# ------\n",
    "# | | | |\n",
    "# ------\n",
    "# | | | |\n",
    "# ------\n",
    "matrix[0].append(2)\n",
    "matrix[0].append(3)\n",
    "print(matrix)"
   ]
  },
  {
   "cell_type": "code",
   "execution_count": 31,
   "metadata": {},
   "outputs": [],
   "source": [
    "# Now because we just have one element in matrix list, our\n",
    "# matrix has essentially just one row:\n",
    "#  ------\n",
    "# |1|2|3|\n",
    "# ------\n",
    "# So we need to add two more\n",
    "matrix.append([])"
   ]
  },
  {
   "cell_type": "code",
   "execution_count": 32,
   "metadata": {},
   "outputs": [
    {
     "name": "stdout",
     "output_type": "stream",
     "text": [
      "[[1, 2, 3], []]\n"
     ]
    }
   ],
   "source": [
    "print(matrix)"
   ]
  },
  {
   "cell_type": "code",
   "execution_count": 33,
   "metadata": {},
   "outputs": [],
   "source": [
    "matrix[1].append(4)\n",
    "matrix[1].append(5)\n",
    "matrix[1].append(6)"
   ]
  },
  {
   "cell_type": "code",
   "execution_count": 34,
   "metadata": {},
   "outputs": [
    {
     "name": "stdout",
     "output_type": "stream",
     "text": [
      "[[1, 2, 3], [4, 5, 6]]\n"
     ]
    }
   ],
   "source": [
    "# How does it look in Python? It's just a list with two elements\n",
    "# Each element is another list holding 3 elements.\n",
    "print(matrix)"
   ]
  },
  {
   "cell_type": "code",
   "execution_count": 35,
   "metadata": {},
   "outputs": [
    {
     "data": {
      "text/plain": [
       "[[1, 2, 3], [4, 5, 6]]"
      ]
     },
     "execution_count": 35,
     "metadata": {},
     "output_type": "execute_result"
    }
   ],
   "source": [
    "matrix"
   ]
  },
  {
   "cell_type": "code",
   "execution_count": 36,
   "metadata": {},
   "outputs": [
    {
     "data": {
      "text/plain": [
       "2"
      ]
     },
     "execution_count": 36,
     "metadata": {},
     "output_type": "execute_result"
    }
   ],
   "source": [
    "# Let's confirm that our matrix has so far just two rows\n",
    "len(matrix)"
   ]
  },
  {
   "cell_type": "code",
   "execution_count": 37,
   "metadata": {},
   "outputs": [
    {
     "data": {
      "text/plain": [
       "3"
      ]
     },
     "execution_count": 37,
     "metadata": {},
     "output_type": "execute_result"
    }
   ],
   "source": [
    "# Let's look at the number of columns, ie number of elements\n",
    "# in the list residing in the first cell\n",
    "len(matrix[0])"
   ]
  },
  {
   "cell_type": "code",
   "execution_count": 38,
   "metadata": {},
   "outputs": [
    {
     "data": {
      "text/plain": [
       "[1, 2, 3]"
      ]
     },
     "execution_count": 38,
     "metadata": {},
     "output_type": "execute_result"
    }
   ],
   "source": [
    "# and let's look at that first element\n",
    "matrix[0]"
   ]
  },
  {
   "cell_type": "code",
   "execution_count": 39,
   "metadata": {},
   "outputs": [
    {
     "data": {
      "text/plain": [
       "2"
      ]
     },
     "execution_count": 39,
     "metadata": {},
     "output_type": "execute_result"
    }
   ],
   "source": [
    "len(matrix)"
   ]
  },
  {
   "cell_type": "code",
   "execution_count": 40,
   "metadata": {},
   "outputs": [
    {
     "name": "stdout",
     "output_type": "stream",
     "text": [
      "[[1, 2, 3], [4, 5, 6], [7, 8, 9]]\n"
     ]
    }
   ],
   "source": [
    "# finally, let's add the third row\n",
    "# instead of adding empty list first, and then populating\n",
    "# it with values, we can add a pre-populated list straight away.\n",
    "# our matrix is now a complete 3x3 array\n",
    "#  ------\n",
    "# |1|2|3|\n",
    "# ------\n",
    "# |4|5|6|\n",
    "# ------\n",
    "# |7|8|9|\n",
    "# ------\n",
    "matrix.append([7, 8, 9])\n",
    "print(matrix)"
   ]
  },
  {
   "cell_type": "code",
   "execution_count": 41,
   "metadata": {},
   "outputs": [
    {
     "name": "stdout",
     "output_type": "stream",
     "text": [
      "2\n"
     ]
    }
   ],
   "source": [
    "# To reference any element in the matrix we will need\n",
    "# 2 coordinates: x, y. Just like in maths.\n",
    "#  ------------\n",
    "# |0,0|0,1|0,2|\n",
    "#  ------------\n",
    "# |1,0|1,1|1,2|\n",
    "#  ------------\n",
    "# |2,0|2,1|2,2|\n",
    "#  ------------\n",
    "# To get the first element in the first row, we use 0, 0 because\n",
    "# remember, indexing starts at 0! To get the second element of\n",
    "# the first row, we use 0,1.\n",
    "print(matrix[0][1])"
   ]
  },
  {
   "cell_type": "code",
   "execution_count": 42,
   "metadata": {},
   "outputs": [],
   "source": [
    "# we can now create more complex structure\n",
    "my_dictionary = {}"
   ]
  },
  {
   "cell_type": "code",
   "execution_count": 43,
   "metadata": {},
   "outputs": [
    {
     "name": "stdout",
     "output_type": "stream",
     "text": [
      "[[1, 2, 3], [4, 5, 6], [7, 8, 9]]\n"
     ]
    }
   ],
   "source": [
    "print(matrix)"
   ]
  },
  {
   "cell_type": "code",
   "execution_count": 47,
   "metadata": {},
   "outputs": [
    {
     "name": "stdout",
     "output_type": "stream",
     "text": [
      "{'matrix': [[1, 2, 3], [4, 5, 6], [7, 8, 9]]}\n",
      "[[1, 2, 3], [4, 5, 6], [7, 8, 9]]\n"
     ]
    }
   ],
   "source": [
    "# and put our matrix in a dictionary\n",
    "my_dictionary['matrix'] = matrix\n",
    "print(my_dictionary)\n",
    "print(my_dictionary['matrix'])"
   ]
  },
  {
   "cell_type": "code",
   "execution_count": 57,
   "metadata": {},
   "outputs": [],
   "source": [
    "mathematician = {'first_name': 'Alan', 'last_name': 'Turing'}"
   ]
  },
  {
   "cell_type": "code",
   "execution_count": 58,
   "metadata": {},
   "outputs": [
    {
     "name": "stdout",
     "output_type": "stream",
     "text": [
      "{'first_name': 'Alan', 'last_name': 'Turing'}\n"
     ]
    }
   ],
   "source": [
    "print(mathematician)"
   ]
  },
  {
   "cell_type": "code",
   "execution_count": 59,
   "metadata": {},
   "outputs": [
    {
     "name": "stdout",
     "output_type": "stream",
     "text": [
      "[{'first_name': 'Alan', 'last_name': 'Turing'}]\n"
     ]
    }
   ],
   "source": [
    "mathematicians = []\n",
    "mathematicians.append(mathematician)\n",
    "print(mathematicians)"
   ]
  },
  {
   "cell_type": "code",
   "execution_count": 60,
   "metadata": {},
   "outputs": [
    {
     "data": {
      "text/plain": [
       "{'first_name': 'Alan', 'last_name': 'Turing'}"
      ]
     },
     "execution_count": 60,
     "metadata": {},
     "output_type": "execute_result"
    }
   ],
   "source": [
    "mathematicians[0]"
   ]
  },
  {
   "cell_type": "code",
   "execution_count": 61,
   "metadata": {},
   "outputs": [],
   "source": [
    "mathematician2 = {'first_name': 'John', 'last_name': 'Nash'}\n",
    "mathematicians.append(mathematician2)"
   ]
  },
  {
   "cell_type": "code",
   "execution_count": 62,
   "metadata": {},
   "outputs": [
    {
     "name": "stdout",
     "output_type": "stream",
     "text": [
      "[{'first_name': 'Alan', 'last_name': 'Turing'}, {'first_name': 'John', 'last_name': 'Nash'}]\n"
     ]
    }
   ],
   "source": [
    "print(mathematicians)"
   ]
  },
  {
   "cell_type": "code",
   "execution_count": 63,
   "metadata": {},
   "outputs": [
    {
     "name": "stdout",
     "output_type": "stream",
     "text": [
      "Alan\n"
     ]
    }
   ],
   "source": [
    "print(mathematicians[0]['first_name'])"
   ]
  },
  {
   "cell_type": "code",
   "execution_count": 64,
   "metadata": {},
   "outputs": [
    {
     "ename": "KeyError",
     "evalue": "'middle_name'",
     "output_type": "error",
     "traceback": [
      "\u001b[0;31m---------------------------------------------------------------------------\u001b[0m",
      "\u001b[0;31mKeyError\u001b[0m                                  Traceback (most recent call last)",
      "\u001b[0;32m<ipython-input-64-7f20a7c30c0b>\u001b[0m in \u001b[0;36m<module>\u001b[0;34m\u001b[0m\n\u001b[1;32m      1\u001b[0m \u001b[0;31m# when we try to reference the key that doesn't exist in the dictionary\u001b[0m\u001b[0;34m\u001b[0m\u001b[0;34m\u001b[0m\u001b[0m\n\u001b[1;32m      2\u001b[0m \u001b[0;31m# things can blow up\u001b[0m\u001b[0;34m\u001b[0m\u001b[0;34m\u001b[0m\u001b[0m\n\u001b[0;32m----> 3\u001b[0;31m \u001b[0mprint\u001b[0m\u001b[0;34m(\u001b[0m\u001b[0mmathematicians\u001b[0m\u001b[0;34m[\u001b[0m\u001b[0;36m0\u001b[0m\u001b[0;34m]\u001b[0m\u001b[0;34m[\u001b[0m\u001b[0;34m'middle_name'\u001b[0m\u001b[0;34m]\u001b[0m\u001b[0;34m)\u001b[0m\u001b[0;34m\u001b[0m\u001b[0m\n\u001b[0m",
      "\u001b[0;31mKeyError\u001b[0m: 'middle_name'"
     ]
    }
   ],
   "source": [
    "# when we try to reference the key that doesn't exist in the dictionary\n",
    "# things can blow up\n",
    "print(mathematicians[0]['middle_name'])"
   ]
  },
  {
   "cell_type": "code",
   "execution_count": 65,
   "metadata": {},
   "outputs": [
    {
     "name": "stdout",
     "output_type": "stream",
     "text": [
      "John\n"
     ]
    }
   ],
   "source": [
    "print(mathematicians[1]['first_name'])"
   ]
  },
  {
   "cell_type": "code",
   "execution_count": 66,
   "metadata": {},
   "outputs": [
    {
     "name": "stdout",
     "output_type": "stream",
     "text": [
      "Nash\n"
     ]
    }
   ],
   "source": [
    "print(mathematicians[1]['last_name'])"
   ]
  }
 ],
 "metadata": {
  "kernelspec": {
   "display_name": "Python 3",
   "language": "python",
   "name": "python3"
  },
  "language_info": {
   "codemirror_mode": {
    "name": "ipython",
    "version": 3
   },
   "file_extension": ".py",
   "mimetype": "text/x-python",
   "name": "python",
   "nbconvert_exporter": "python",
   "pygments_lexer": "ipython3",
   "version": "3.7.0"
  }
 },
 "nbformat": 4,
 "nbformat_minor": 2
}
