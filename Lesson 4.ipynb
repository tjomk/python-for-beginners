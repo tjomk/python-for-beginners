{
 "cells": [
  {
   "cell_type": "code",
   "execution_count": 1,
   "metadata": {},
   "outputs": [
    {
     "name": "stdout",
     "output_type": "stream",
     "text": [
      "Hello, World\n"
     ]
    }
   ],
   "source": [
    "# we've already seen functions before, and print is one of them\n",
    "# we pass some string to the functions, and it displays it onto\n",
    "# the screen\n",
    "print(\"Hello, World\")"
   ]
  },
  {
   "cell_type": "code",
   "execution_count": 2,
   "metadata": {},
   "outputs": [
    {
     "name": "stdout",
     "output_type": "stream",
     "text": [
      "\n"
     ]
    }
   ],
   "source": [
    "# if we don't pass anything, print() will print \"nothing\"\n",
    "print()"
   ]
  },
  {
   "cell_type": "code",
   "execution_count": 3,
   "metadata": {},
   "outputs": [
    {
     "name": "stdout",
     "output_type": "stream",
     "text": [
      "Hello , World\n"
     ]
    }
   ],
   "source": [
    "# we can pass as many arguments as we want, separating them by comma\n",
    "# and print() will display them onto the screen separating by the \" \" (space)\n",
    "print(\"Hello\", \",\", \"World\")"
   ]
  },
  {
   "cell_type": "code",
   "execution_count": 4,
   "metadata": {},
   "outputs": [
    {
     "data": {
      "text/plain": [
       "2.718281828459045"
      ]
     },
     "execution_count": 4,
     "metadata": {},
     "output_type": "execute_result"
    }
   ],
   "source": [
    "# we have previously also used the exp() function to calculate\n",
    "# the Euler's constant. This function is part of the math module\n",
    "# that we have to import first.\n",
    "import math\n",
    "math.exp(1)"
   ]
  },
  {
   "cell_type": "code",
   "execution_count": 5,
   "metadata": {},
   "outputs": [],
   "source": [
    "# let's create our own function to calculate the circle area.\n",
    "# we'll start with the function sceleton:\n",
    "# - the \"def\" keyword that every function must start with\n",
    "# - the function name that must start with a character\n",
    "# - function arguments, if any, between brackets and separated by the comma\n",
    "# - colon\n",
    "# - indented function body\n",
    "def circle_area():\n",
    "    # we're calling another function from within our own\n",
    "    print(\"Hello, world\")"
   ]
  },
  {
   "cell_type": "code",
   "execution_count": 6,
   "metadata": {},
   "outputs": [
    {
     "name": "stdout",
     "output_type": "stream",
     "text": [
      "Hello, world\n"
     ]
    }
   ],
   "source": [
    "# to run the function, just type its name with parentheses\n",
    "circle_area()"
   ]
  },
  {
   "cell_type": "code",
   "execution_count": 7,
   "metadata": {},
   "outputs": [],
   "source": [
    "# our initial goal was to calculate circle area, so let's do that now\n",
    "# mind the \"radius\" argument inside the parentheses. This is the value\n",
    "# that will need to be passed to the function, and we can readily use\n",
    "# it inside the function.\n",
    "def circle_area(radius):\n",
    "    s = math.pi * radius ** 2\n",
    "    print(s)"
   ]
  },
  {
   "cell_type": "code",
   "execution_count": 8,
   "metadata": {},
   "outputs": [
    {
     "ename": "TypeError",
     "evalue": "circle_area() missing 1 required positional argument: 'radius'",
     "output_type": "error",
     "traceback": [
      "\u001b[0;31m---------------------------------------------------------------------------\u001b[0m",
      "\u001b[0;31mTypeError\u001b[0m                                 Traceback (most recent call last)",
      "\u001b[0;32m<ipython-input-8-a4a396864919>\u001b[0m in \u001b[0;36m<module>\u001b[0;34m\u001b[0m\n\u001b[1;32m      1\u001b[0m \u001b[0;31m# let's call the function\u001b[0m\u001b[0;34m\u001b[0m\u001b[0;34m\u001b[0m\u001b[0m\n\u001b[0;32m----> 2\u001b[0;31m \u001b[0mcircle_area\u001b[0m\u001b[0;34m(\u001b[0m\u001b[0;34m)\u001b[0m\u001b[0;34m\u001b[0m\u001b[0m\n\u001b[0m",
      "\u001b[0;31mTypeError\u001b[0m: circle_area() missing 1 required positional argument: 'radius'"
     ]
    }
   ],
   "source": [
    "# let's call the function\n",
    "circle_area()"
   ]
  },
  {
   "cell_type": "code",
   "execution_count": 9,
   "metadata": {},
   "outputs": [
    {
     "name": "stdout",
     "output_type": "stream",
     "text": [
      "3.141592653589793\n"
     ]
    }
   ],
   "source": [
    "# oops, we forgot to pass the radius. Let's calculate the circle area\n",
    "# for a circle with a radius of 1\n",
    "circle_area(1)"
   ]
  },
  {
   "cell_type": "code",
   "execution_count": 10,
   "metadata": {},
   "outputs": [
    {
     "name": "stdout",
     "output_type": "stream",
     "text": [
      "19.634954084936208\n"
     ]
    }
   ],
   "source": [
    "# let's try a different one\n",
    "circle_area(2.5)"
   ]
  },
  {
   "cell_type": "code",
   "execution_count": 11,
   "metadata": {},
   "outputs": [
    {
     "name": "stdout",
     "output_type": "stream",
     "text": [
      "3.141592653589793e-06\n"
     ]
    }
   ],
   "source": [
    "circle_area(10**-3)"
   ]
  },
  {
   "cell_type": "code",
   "execution_count": 12,
   "metadata": {},
   "outputs": [],
   "source": [
    "# if most of the time we pass the same value to a function,\n",
    "# to make it easier, we can set the default value for the\n",
    "# argument\n",
    "def buy_product(name=\"Apple\"):\n",
    "    print(\"Bought: \", name)"
   ]
  },
  {
   "cell_type": "code",
   "execution_count": 13,
   "metadata": {},
   "outputs": [
    {
     "name": "stdout",
     "output_type": "stream",
     "text": [
      "Bought:  Apple\n"
     ]
    }
   ],
   "source": [
    "# so that if we call the function without specifying that \n",
    "# argument, Python will use the default value we provided\n",
    "# previously\n",
    "buy_product()"
   ]
  },
  {
   "cell_type": "code",
   "execution_count": 14,
   "metadata": {},
   "outputs": [
    {
     "name": "stdout",
     "output_type": "stream",
     "text": [
      "Bought:  Orange\n"
     ]
    }
   ],
   "source": [
    "# if we do provide some value, Python will use it\n",
    "buy_product(\"Orange\")"
   ]
  },
  {
   "cell_type": "code",
   "execution_count": 15,
   "metadata": {},
   "outputs": [
    {
     "name": "stdout",
     "output_type": "stream",
     "text": [
      "Kevin Mc Alister 30\n"
     ]
    }
   ],
   "source": [
    "# we can combine arguments with and without a default value\n",
    "# keep in mind, though, that first you have to specify\n",
    "# arguments without the default value, then with defaults.\n",
    "# Try what happens, if you do the other way around? What\n",
    "# happens if you mix?\n",
    "def person_info(first_name, last_name, age=30):\n",
    "    print(first_name, last_name, age)\n",
    "    \n",
    "person_info(\"Kevin\", \"Mc Alister\")"
   ]
  },
  {
   "cell_type": "code",
   "execution_count": 16,
   "metadata": {},
   "outputs": [
    {
     "name": "stdout",
     "output_type": "stream",
     "text": [
      "Santa Claus 500\n"
     ]
    }
   ],
   "source": [
    "person_info(\"Santa\", \"Claus\", 500)"
   ]
  },
  {
   "cell_type": "code",
   "execution_count": 19,
   "metadata": {},
   "outputs": [],
   "source": [
    "# so far we've been just printing everything to the screen, but\n",
    "# there is not much point in such functions if we cannot use\n",
    "# the calculated value elsewhere in our code. To fix that,\n",
    "# we just need to \"return\" the value\n",
    "def circle_area(radius):\n",
    "    s = math.pi * radius**2\n",
    "    return s"
   ]
  },
  {
   "cell_type": "code",
   "execution_count": 24,
   "metadata": {},
   "outputs": [
    {
     "data": {
      "text/plain": [
       "3.141592653589793"
      ]
     },
     "execution_count": 24,
     "metadata": {},
     "output_type": "execute_result"
    }
   ],
   "source": [
    "# jupyter is helpful enough to print the returned value back\n",
    "# to us\n",
    "circle_area(1)"
   ]
  },
  {
   "cell_type": "code",
   "execution_count": 20,
   "metadata": {},
   "outputs": [],
   "source": [
    "# but we can assign it to a variable too\n",
    "area = circle_area(1)"
   ]
  },
  {
   "cell_type": "code",
   "execution_count": 26,
   "metadata": {},
   "outputs": [
    {
     "name": "stdout",
     "output_type": "stream",
     "text": [
      "3.141592653589793\n"
     ]
    }
   ],
   "source": [
    "print(area)"
   ]
  },
  {
   "cell_type": "code",
   "execution_count": 21,
   "metadata": {},
   "outputs": [],
   "source": [
    "# here is another function that you might need to use somewhere\n",
    "# this one is reading the file contents and returns it to you as\n",
    "# text. The 3 commented lines is just another way to write the\n",
    "# same thing.\n",
    "def read_file(filename):\n",
    "    return open(filename).read()\n",
    "    # f = open(filename)\n",
    "    # text = f.read()\n",
    "    # return text"
   ]
  },
  {
   "cell_type": "code",
   "execution_count": 29,
   "metadata": {},
   "outputs": [],
   "source": [
    "# Create a text file anywhere on your computer and put the\n",
    "# correct path to it\n",
    "contents = read_file(\"/Users/artjom/Desktop/random_file.txt\")"
   ]
  },
  {
   "cell_type": "code",
   "execution_count": 30,
   "metadata": {},
   "outputs": [
    {
     "name": "stdout",
     "output_type": "stream",
     "text": [
      "Hello, this is a file contents\n"
     ]
    }
   ],
   "source": [
    "print(contents)"
   ]
  },
  {
   "cell_type": "code",
   "execution_count": 31,
   "metadata": {},
   "outputs": [],
   "source": [
    "# later we will try to create a simple function that would\n",
    "# fetch information from the Internet and parse it, in order\n",
    "# to extract some useful data. Let's prototype it.\n",
    "def fetch_product_info(url):\n",
    "    print(url)"
   ]
  },
  {
   "cell_type": "code",
   "execution_count": 32,
   "metadata": {},
   "outputs": [
    {
     "name": "stdout",
     "output_type": "stream",
     "text": [
      "https://www.maxima.ee\n",
      "www.selver.ee\n"
     ]
    }
   ],
   "source": [
    "# now we have a list of URLs, and use them to fetch\n",
    "# prices of products\n",
    "urls = [\"https://www.maxima.ee\", \"www.selver.ee\"]\n",
    "\n",
    "# we will use \"for\" loop to iterate over the shops\n",
    "# don't worry about the loops yet, since it's something\n",
    "# we will discuss during the next lesson\n",
    "for url in urls:\n",
    "    fetch_product_info(url)\n"
   ]
  },
  {
   "cell_type": "code",
   "execution_count": 34,
   "metadata": {},
   "outputs": [],
   "source": [
    "area = circle_area(5)"
   ]
  },
  {
   "cell_type": "code",
   "execution_count": 35,
   "metadata": {},
   "outputs": [
    {
     "name": "stdout",
     "output_type": "stream",
     "text": [
      "much bigger circle\n"
     ]
    }
   ],
   "source": [
    "# we will now use conditionals - Python constructs to\n",
    "# run different blocks of code based on some value.\n",
    "if area < 10:\n",
    "    print(\"this is a tiny circle\")\n",
    "else:\n",
    "    print(\"much bigger circle\")"
   ]
  },
  {
   "cell_type": "code",
   "execution_count": 36,
   "metadata": {},
   "outputs": [],
   "source": [
    "# Remember few lessons back we discussed booleans? These\n",
    "# could be either True or False. In an \"if\" or \"elif\"\n",
    "# statement, the whole expression is evaluated into\n",
    "# boolean, and if it's True, then the block is executed.\n",
    "# For numbers, any value except 0 evaluates to True.\n",
    "# For example, -5, 1, -1, 100 -> True"
   ]
  },
  {
   "cell_type": "code",
   "execution_count": 37,
   "metadata": {},
   "outputs": [
    {
     "name": "stdout",
     "output_type": "stream",
     "text": [
      "not zero\n"
     ]
    }
   ],
   "source": [
    "# 0 -> False\n",
    "# 1.0, 5.123456 -> True\n",
    "# 0.0 -> False\n",
    "# If we want to check if the \"area\" is anything but zero\n",
    "if area:\n",
    "    print(\"not zero\")\n",
    "else:\n",
    "    print(\"is zero\")\n",
    "    "
   ]
  },
  {
   "cell_type": "code",
   "execution_count": 38,
   "metadata": {},
   "outputs": [
    {
     "name": "stdout",
     "output_type": "stream",
     "text": [
      "is zero\n"
     ]
    }
   ],
   "source": [
    "area = 0\n",
    "if area:\n",
    "    print(\"not zero\")\n",
    "else:\n",
    "    print(\"is zero\")"
   ]
  },
  {
   "cell_type": "code",
   "execution_count": 39,
   "metadata": {},
   "outputs": [
    {
     "name": "stdout",
     "output_type": "stream",
     "text": [
      "zero\n"
     ]
    }
   ],
   "source": [
    "# we can also explicitly check if the area is zero.\n",
    "if area == 0:\n",
    "    print(\"zero\")\n",
    "else:\n",
    "    print(\"not zero\")"
   ]
  },
  {
   "cell_type": "code",
   "execution_count": 40,
   "metadata": {},
   "outputs": [
    {
     "name": "stdout",
     "output_type": "stream",
     "text": [
      "0\n"
     ]
    }
   ],
   "source": [
    "# when you want to check for more than one value, you\n",
    "# can fit as many \"elif\"s as you want\n",
    "if area < 0:\n",
    "    print(\"negative area\")\n",
    "elif area > 100:\n",
    "    print(\"area bigger than 100\")\n",
    "elif area > 10:\n",
    "    print(\"area bigger than 10\")\n",
    "else:\n",
    "    print(area)\n",
    "    \n"
   ]
  },
  {
   "cell_type": "code",
   "execution_count": 42,
   "metadata": {},
   "outputs": [
    {
     "name": "stdout",
     "output_type": "stream",
     "text": [
      "Error, I didn't think of that condition\n",
      "a statement after if\n"
     ]
    }
   ],
   "source": [
    "# or we can do all of these checks in a single \"if\"\n",
    "area_less_than_100 = area < 100\n",
    "area_greater_than_zero = area > 0\n",
    "area_is_negative = area < 0\n",
    "area_greater_than_50 = area > 50\n",
    "\n",
    "# mind the \"and\" and \"or\" here. Remember we talked about them\n",
    "# a little bit during the booleans?\n",
    "if area_less_than_100 and \\\n",
    "        area_greater_than_zero and \\\n",
    "        area_greater_than_50 or \\\n",
    "        area_is_negative:\n",
    "    print(\"We've got area between 50 and 100 or negative area\")\n",
    "else:\n",
    "    print(\"Error, I didn't think of that condition\")\n",
    "print(\"a statement after if\")    "
   ]
  },
  {
   "cell_type": "code",
   "execution_count": 43,
   "metadata": {},
   "outputs": [
    {
     "name": "stdout",
     "output_type": "stream",
     "text": [
      "That is a big area\n"
     ]
    }
   ],
   "source": [
    "# you can also use functions inside the conditional statement\n",
    "# however this is not recommended\n",
    "if circle_area(5) > 10:\n",
    "    print(\"That is a big area\")"
   ]
  },
  {
   "cell_type": "code",
   "execution_count": 44,
   "metadata": {},
   "outputs": [
    {
     "name": "stdout",
     "output_type": "stream",
     "text": [
      "Yay\n"
     ]
    }
   ],
   "source": [
    "# it's better to save the result into a variable and\n",
    "# use that in conditional\n",
    "area = circle_area(5)\n",
    "if area > 10:\n",
    "    print(\"Yay\")"
   ]
  },
  {
   "cell_type": "code",
   "execution_count": 45,
   "metadata": {},
   "outputs": [
    {
     "name": "stdout",
     "output_type": "stream",
     "text": [
      "The Zen of Python, by Tim Peters\n",
      "\n",
      "Beautiful is better than ugly.\n",
      "Explicit is better than implicit.\n",
      "Simple is better than complex.\n",
      "Complex is better than complicated.\n",
      "Flat is better than nested.\n",
      "Sparse is better than dense.\n",
      "Readability counts.\n",
      "Special cases aren't special enough to break the rules.\n",
      "Although practicality beats purity.\n",
      "Errors should never pass silently.\n",
      "Unless explicitly silenced.\n",
      "In the face of ambiguity, refuse the temptation to guess.\n",
      "There should be one-- and preferably only one --obvious way to do it.\n",
      "Although that way may not be obvious at first unless you're Dutch.\n",
      "Now is better than never.\n",
      "Although never is often better than *right* now.\n",
      "If the implementation is hard to explain, it's a bad idea.\n",
      "If the implementation is easy to explain, it may be a good idea.\n",
      "Namespaces are one honking great idea -- let's do more of those!\n"
     ]
    }
   ],
   "source": [
    "# The Zen of Python will help you when in doubt\n",
    "import this"
   ]
  },
  {
   "cell_type": "code",
   "execution_count": null,
   "metadata": {},
   "outputs": [],
   "source": []
  }
 ],
 "metadata": {
  "kernelspec": {
   "display_name": "Python 3",
   "language": "python",
   "name": "python3"
  },
  "language_info": {
   "codemirror_mode": {
    "name": "ipython",
    "version": 3
   },
   "file_extension": ".py",
   "mimetype": "text/x-python",
   "name": "python",
   "nbconvert_exporter": "python",
   "pygments_lexer": "ipython3",
   "version": "3.7.0"
  }
 },
 "nbformat": 4,
 "nbformat_minor": 2
}
